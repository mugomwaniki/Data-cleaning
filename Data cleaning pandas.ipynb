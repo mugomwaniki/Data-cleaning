{
 "cells": [
  {
   "cell_type": "markdown",
   "metadata": {},
   "source": [
    "SIMPLE DATA CLEANING FOR BEGGINNERS USING PANDAS"
   ]
  },
  {
   "cell_type": "markdown",
   "metadata": {},
   "source": [
    "HOW TO LOAD THE DATASET"
   ]
  },
  {
   "cell_type": "code",
   "execution_count": 2,
   "metadata": {},
   "outputs": [],
   "source": [
    "import pandas as pd\n",
    "df = pd.read_csv('device.csv.csv')\n"
   ]
  },
  {
   "cell_type": "markdown",
   "metadata": {},
   "source": [
    "EXPLORATORY DATA ANALYSIS(EDA)"
   ]
  },
  {
   "cell_type": "code",
   "execution_count": 3,
   "metadata": {},
   "outputs": [
    {
     "name": "stdout",
     "output_type": "stream",
     "text": [
      "                         id                 date     user       pc    activity\n",
      "0  {J1S3-L9UU75BQ-7790ATPL}  01/02/2010 07:21:06  MOH0273  PC-6699     Connect\n",
      "1  {N7B5-Y7BB27SI-2946PUJK}  01/02/2010 07:37:41  MOH0273  PC-6699  Disconnect\n",
      "2  {U1V9-Z7XT67KV-5649MYHI}  01/02/2010 07:59:11  HPH0075  PC-2417     Connect\n",
      "3  {H0Z7-E6GB57XZ-1603MOXD}  01/02/2010 07:59:49  IIW0249  PC-0843     Connect\n",
      "4  {L7P2-G4PX02RX-7999GYOY}  01/02/2010 08:04:26  IIW0249  PC-0843  Disconnect\n"
     ]
    }
   ],
   "source": [
    "#display the first few rows of the dataset\n",
    "print(df.head())"
   ]
  },
  {
   "cell_type": "code",
   "execution_count": 4,
   "metadata": {},
   "outputs": [
    {
     "name": "stdout",
     "output_type": "stream",
     "text": [
      "                              id                 date     user       pc  \\\n",
      "count                     405380               405380   405380   405380   \n",
      "unique                    405380               399631      265      971   \n",
      "top     {J1S3-L9UU75BQ-7790ATPL}  10/22/2010 16:45:36  AJF0370  PC-3640   \n",
      "freq                           1                    4     8502     7801   \n",
      "\n",
      "       activity  \n",
      "count    405380  \n",
      "unique        2  \n",
      "top     Connect  \n",
      "freq     203339  \n"
     ]
    }
   ],
   "source": [
    "#summary statistics,gives statistical data like mean etc\n",
    "print(df.describe())"
   ]
  },
  {
   "cell_type": "code",
   "execution_count": 5,
   "metadata": {},
   "outputs": [
    {
     "name": "stdout",
     "output_type": "stream",
     "text": [
      "<class 'pandas.core.frame.DataFrame'>\n",
      "RangeIndex: 405380 entries, 0 to 405379\n",
      "Data columns (total 5 columns):\n",
      " #   Column    Non-Null Count   Dtype \n",
      "---  ------    --------------   ----- \n",
      " 0   id        405380 non-null  object\n",
      " 1   date      405380 non-null  object\n",
      " 2   user      405380 non-null  object\n",
      " 3   pc        405380 non-null  object\n",
      " 4   activity  405380 non-null  object\n",
      "dtypes: object(5)\n",
      "memory usage: 15.5+ MB\n",
      "None\n"
     ]
    }
   ],
   "source": [
    "#information about the dataset eg no of columns,memory usage etc\n",
    "print(df.info())"
   ]
  },
  {
   "cell_type": "markdown",
   "metadata": {},
   "source": [
    "HOW TO HANDLE MISSING VALUES\n"
   ]
  },
  {
   "cell_type": "code",
   "execution_count": 6,
   "metadata": {},
   "outputs": [
    {
     "name": "stdout",
     "output_type": "stream",
     "text": [
      "id          0\n",
      "date        0\n",
      "user        0\n",
      "pc          0\n",
      "activity    0\n",
      "dtype: int64\n"
     ]
    }
   ],
   "source": [
    "#Check for missing values\n",
    "print(df.isnull().sum())"
   ]
  },
  {
   "cell_type": "code",
   "execution_count": 7,
   "metadata": {},
   "outputs": [],
   "source": [
    "#drop rows with missing values and place it in an new variable\n",
    "df_cleaned = df.dropna()"
   ]
  },
  {
   "cell_type": "code",
   "execution_count": null,
   "metadata": {},
   "outputs": [],
   "source": [
    "#fill missing values with mean for numerical data and place it in a new valuable called df_filled\n",
    "#df_filled=df.fillna(df.mean())"
   ]
  },
  {
   "cell_type": "markdown",
   "metadata": {},
   "source": [
    "But if the number of rows that have missing values is large, then the above method will be inadequate."
   ]
  },
  {
   "cell_type": "code",
   "execution_count": null,
   "metadata": {},
   "outputs": [],
   "source": [
    "#Replace missing values with the mean of each column\n",
    "#df.fillna(df.mean(), inplace=True)"
   ]
  },
  {
   "cell_type": "code",
   "execution_count": null,
   "metadata": {},
   "outputs": [],
   "source": [
    "#If you want to replace missing values in a specific column, you can do it this way:\n",
    "#Replace 'column_name' with the actual column name\n",
    "#df['column_name'].fillna(df['column_name'].mean(), inplace=True)"
   ]
  },
  {
   "cell_type": "markdown",
   "metadata": {},
   "source": [
    "REMOVING DUPLICATE RECORDS"
   ]
  },
  {
   "cell_type": "code",
   "execution_count": 3,
   "metadata": {},
   "outputs": [
    {
     "name": "stdout",
     "output_type": "stream",
     "text": [
      "0\n"
     ]
    }
   ],
   "source": [
    "#IDENTIFY Duplicates\n",
    "import pandas as pd\n",
    "df = pd.read_csv('device.csv.csv')\n",
    "print(df.duplicated().sum())"
   ]
  },
  {
   "cell_type": "code",
   "execution_count": 4,
   "metadata": {},
   "outputs": [],
   "source": [
    "#Remove duplicates\n",
    "df_no_duplicates = df.drop_duplicates()"
   ]
  },
  {
   "cell_type": "markdown",
   "metadata": {},
   "source": [
    "DATA TYPES AND CONVERSION"
   ]
  },
  {
   "cell_type": "code",
   "execution_count": null,
   "metadata": {},
   "outputs": [],
   "source": [
    "#Convert 'Column1' to float\n",
    "#depends with your datatypes\n",
    "#df['Column1'] = df['Column1'].astype(float)"
   ]
  },
  {
   "cell_type": "code",
   "execution_count": 6,
   "metadata": {},
   "outputs": [
    {
     "name": "stdout",
     "output_type": "stream",
     "text": [
      "id          object\n",
      "date        object\n",
      "user        object\n",
      "pc          object\n",
      "activity    object\n",
      "dtype: object\n"
     ]
    }
   ],
   "source": [
    "#Display updated data types\n",
    "print(df.dtypes)"
   ]
  },
  {
   "cell_type": "markdown",
   "metadata": {},
   "source": [
    "\n",
    "How to Encode Categorical Variables\n",
    "required mostly for machine learning algorithims\n",
    "we use the get_dummies function which converts categorical values into numerical format(binary format)"
   ]
  },
  {
   "cell_type": "code",
   "execution_count": 8,
   "metadata": {},
   "outputs": [],
   "source": [
    "#To convert categorical data from the column \"user\" to numerical data\n",
    "df_encode = pd.get_dummies(df, columns=[])\n"
   ]
  },
  {
   "cell_type": "markdown",
   "metadata": {},
   "source": [
    "How to Handle Outliers\n",
    "There are several methods to identify and remove outliers, they are:\n",
    "\n",
    "Remove NaN values.\n",
    "Visualize the data before and after removal.\n",
    "Z-score method (for normally distributed data).\n",
    "IQR (Interquartile range) method for more robust data.\n"
   ]
  },
  {
   "cell_type": "code",
   "execution_count": null,
   "metadata": {},
   "outputs": [],
   "source": []
  }
 ],
 "metadata": {
  "kernelspec": {
   "display_name": "Python 3",
   "language": "python",
   "name": "python3"
  },
  "language_info": {
   "codemirror_mode": {
    "name": "ipython",
    "version": 3
   },
   "file_extension": ".py",
   "mimetype": "text/x-python",
   "name": "python",
   "nbconvert_exporter": "python",
   "pygments_lexer": "ipython3",
   "version": "3.12.2"
  }
 },
 "nbformat": 4,
 "nbformat_minor": 2
}
