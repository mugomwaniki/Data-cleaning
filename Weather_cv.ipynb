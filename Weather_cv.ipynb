{
  "nbformat": 4,
  "nbformat_minor": 0,
  "metadata": {
    "colab": {
      "provenance": [],
      "toc_visible": true,
      "authorship_tag": "ABX9TyN4/UFN+800IqLEXfkVPxKC",
      "include_colab_link": true
    },
    "kernelspec": {
      "name": "python3",
      "display_name": "Python 3"
    },
    "language_info": {
      "name": "python"
    }
  },
  "cells": [
    {
      "cell_type": "markdown",
      "metadata": {
        "id": "view-in-github",
        "colab_type": "text"
      },
      "source": [
        "<a href=\"https://colab.research.google.com/github/mugomwaniki/Data-cleaning/blob/main/Weather_cv.ipynb\" target=\"_parent\"><img src=\"https://colab.research.google.com/assets/colab-badge.svg\" alt=\"Open In Colab\"/></a>"
      ]
    },
    {
      "cell_type": "code",
      "execution_count": null,
      "metadata": {
        "id": "Nsy8HbevTvzH"
      },
      "outputs": [],
      "source": []
    },
    {
      "cell_type": "code",
      "source": [
        "! pip install kaggle"
      ],
      "metadata": {
        "colab": {
          "base_uri": "https://localhost:8080/"
        },
        "id": "gSlwn9A4AFgG",
        "outputId": "4602f8ad-d489-478b-bfa0-2312729f3a08"
      },
      "execution_count": 1,
      "outputs": [
        {
          "output_type": "stream",
          "name": "stdout",
          "text": [
            "Requirement already satisfied: kaggle in /usr/local/lib/python3.10/dist-packages (1.6.17)\n",
            "Requirement already satisfied: six>=1.10 in /usr/local/lib/python3.10/dist-packages (from kaggle) (1.16.0)\n",
            "Requirement already satisfied: certifi>=2023.7.22 in /usr/local/lib/python3.10/dist-packages (from kaggle) (2024.7.4)\n",
            "Requirement already satisfied: python-dateutil in /usr/local/lib/python3.10/dist-packages (from kaggle) (2.8.2)\n",
            "Requirement already satisfied: requests in /usr/local/lib/python3.10/dist-packages (from kaggle) (2.31.0)\n",
            "Requirement already satisfied: tqdm in /usr/local/lib/python3.10/dist-packages (from kaggle) (4.66.4)\n",
            "Requirement already satisfied: python-slugify in /usr/local/lib/python3.10/dist-packages (from kaggle) (8.0.4)\n",
            "Requirement already satisfied: urllib3 in /usr/local/lib/python3.10/dist-packages (from kaggle) (2.0.7)\n",
            "Requirement already satisfied: bleach in /usr/local/lib/python3.10/dist-packages (from kaggle) (6.1.0)\n",
            "Requirement already satisfied: webencodings in /usr/local/lib/python3.10/dist-packages (from bleach->kaggle) (0.5.1)\n",
            "Requirement already satisfied: text-unidecode>=1.3 in /usr/local/lib/python3.10/dist-packages (from python-slugify->kaggle) (1.3)\n",
            "Requirement already satisfied: charset-normalizer<4,>=2 in /usr/local/lib/python3.10/dist-packages (from requests->kaggle) (3.3.2)\n",
            "Requirement already satisfied: idna<4,>=2.5 in /usr/local/lib/python3.10/dist-packages (from requests->kaggle) (3.7)\n"
          ]
        }
      ]
    },
    {
      "cell_type": "code",
      "source": [
        "! kaggle datasets download ayushmi77al/weather-data-set-for-beginners"
      ],
      "metadata": {
        "colab": {
          "base_uri": "https://localhost:8080/"
        },
        "id": "qwaJNnZ6UjLu",
        "outputId": "7e69b365-bcab-4dbe-fe8e-f42013569c1f"
      },
      "execution_count": 5,
      "outputs": [
        {
          "output_type": "stream",
          "name": "stdout",
          "text": [
            "Dataset URL: https://www.kaggle.com/datasets/ayushmi77al/weather-data-set-for-beginners\n",
            "License(s): unknown\n",
            "Downloading weather-data-set-for-beginners.zip to /content\n",
            "100% 101k/101k [00:00<00:00, 375kB/s]\n",
            "100% 101k/101k [00:00<00:00, 375kB/s]\n"
          ]
        }
      ]
    },
    {
      "cell_type": "code",
      "source": [
        "!unzip /content/weather-data-set-for-beginners.zip"
      ],
      "metadata": {
        "colab": {
          "base_uri": "https://localhost:8080/"
        },
        "id": "gjEY3gX2U3qh",
        "outputId": "d3901125-804b-4477-c27b-e6be398dc515"
      },
      "execution_count": 6,
      "outputs": [
        {
          "output_type": "stream",
          "name": "stdout",
          "text": [
            "Archive:  /content/weather-data-set-for-beginners.zip\n",
            "  inflating: 1. Weather Data.csv     \n"
          ]
        }
      ]
    },
    {
      "cell_type": "code",
      "source": [
        "import pandas as pd\n",
        "import numpy as np"
      ],
      "metadata": {
        "id": "V12R65QWZAXk"
      },
      "execution_count": 8,
      "outputs": []
    },
    {
      "cell_type": "code",
      "source": [
        "data = pd.read_csv(\"1. Weather Data.csv\")"
      ],
      "metadata": {
        "id": "-97MpJOKZL5z"
      },
      "execution_count": 9,
      "outputs": []
    },
    {
      "cell_type": "code",
      "source": [
        "data.head()"
      ],
      "metadata": {
        "colab": {
          "base_uri": "https://localhost:8080/",
          "height": 206
        },
        "id": "42AFYzHDoYtl",
        "outputId": "f05db871-886a-4413-fb6a-4d788ef05b55"
      },
      "execution_count": 22,
      "outputs": [
        {
          "output_type": "execute_result",
          "data": {
            "text/plain": [
              "       Date/Time  Temp_C  Dew Point Temp_C  Rel Hum_%  Wind Speed_km/h  \\\n",
              "0  1/1/2012 0:00    -1.8              -3.9         86                4   \n",
              "1  1/1/2012 1:00    -1.8              -3.7         87                4   \n",
              "2  1/1/2012 2:00    -1.8              -3.4         89                7   \n",
              "3  1/1/2012 3:00    -1.5              -3.2         88                6   \n",
              "4  1/1/2012 4:00    -1.5              -3.3         88                7   \n",
              "\n",
              "   Visibility_km  Press_kPa               Weather  \n",
              "0            8.0     101.24                   Fog  \n",
              "1            8.0     101.24                   Fog  \n",
              "2            4.0     101.26  Freezing Drizzle,Fog  \n",
              "3            4.0     101.27  Freezing Drizzle,Fog  \n",
              "4            4.8     101.23                   Fog  "
            ],
            "text/html": [
              "\n",
              "  <div id=\"df-15d214a7-26f0-4381-8a70-e1625b0af086\" class=\"colab-df-container\">\n",
              "    <div>\n",
              "<style scoped>\n",
              "    .dataframe tbody tr th:only-of-type {\n",
              "        vertical-align: middle;\n",
              "    }\n",
              "\n",
              "    .dataframe tbody tr th {\n",
              "        vertical-align: top;\n",
              "    }\n",
              "\n",
              "    .dataframe thead th {\n",
              "        text-align: right;\n",
              "    }\n",
              "</style>\n",
              "<table border=\"1\" class=\"dataframe\">\n",
              "  <thead>\n",
              "    <tr style=\"text-align: right;\">\n",
              "      <th></th>\n",
              "      <th>Date/Time</th>\n",
              "      <th>Temp_C</th>\n",
              "      <th>Dew Point Temp_C</th>\n",
              "      <th>Rel Hum_%</th>\n",
              "      <th>Wind Speed_km/h</th>\n",
              "      <th>Visibility_km</th>\n",
              "      <th>Press_kPa</th>\n",
              "      <th>Weather</th>\n",
              "    </tr>\n",
              "  </thead>\n",
              "  <tbody>\n",
              "    <tr>\n",
              "      <th>0</th>\n",
              "      <td>1/1/2012 0:00</td>\n",
              "      <td>-1.8</td>\n",
              "      <td>-3.9</td>\n",
              "      <td>86</td>\n",
              "      <td>4</td>\n",
              "      <td>8.0</td>\n",
              "      <td>101.24</td>\n",
              "      <td>Fog</td>\n",
              "    </tr>\n",
              "    <tr>\n",
              "      <th>1</th>\n",
              "      <td>1/1/2012 1:00</td>\n",
              "      <td>-1.8</td>\n",
              "      <td>-3.7</td>\n",
              "      <td>87</td>\n",
              "      <td>4</td>\n",
              "      <td>8.0</td>\n",
              "      <td>101.24</td>\n",
              "      <td>Fog</td>\n",
              "    </tr>\n",
              "    <tr>\n",
              "      <th>2</th>\n",
              "      <td>1/1/2012 2:00</td>\n",
              "      <td>-1.8</td>\n",
              "      <td>-3.4</td>\n",
              "      <td>89</td>\n",
              "      <td>7</td>\n",
              "      <td>4.0</td>\n",
              "      <td>101.26</td>\n",
              "      <td>Freezing Drizzle,Fog</td>\n",
              "    </tr>\n",
              "    <tr>\n",
              "      <th>3</th>\n",
              "      <td>1/1/2012 3:00</td>\n",
              "      <td>-1.5</td>\n",
              "      <td>-3.2</td>\n",
              "      <td>88</td>\n",
              "      <td>6</td>\n",
              "      <td>4.0</td>\n",
              "      <td>101.27</td>\n",
              "      <td>Freezing Drizzle,Fog</td>\n",
              "    </tr>\n",
              "    <tr>\n",
              "      <th>4</th>\n",
              "      <td>1/1/2012 4:00</td>\n",
              "      <td>-1.5</td>\n",
              "      <td>-3.3</td>\n",
              "      <td>88</td>\n",
              "      <td>7</td>\n",
              "      <td>4.8</td>\n",
              "      <td>101.23</td>\n",
              "      <td>Fog</td>\n",
              "    </tr>\n",
              "  </tbody>\n",
              "</table>\n",
              "</div>\n",
              "    <div class=\"colab-df-buttons\">\n",
              "\n",
              "  <div class=\"colab-df-container\">\n",
              "    <button class=\"colab-df-convert\" onclick=\"convertToInteractive('df-15d214a7-26f0-4381-8a70-e1625b0af086')\"\n",
              "            title=\"Convert this dataframe to an interactive table.\"\n",
              "            style=\"display:none;\">\n",
              "\n",
              "  <svg xmlns=\"http://www.w3.org/2000/svg\" height=\"24px\" viewBox=\"0 -960 960 960\">\n",
              "    <path d=\"M120-120v-720h720v720H120Zm60-500h600v-160H180v160Zm220 220h160v-160H400v160Zm0 220h160v-160H400v160ZM180-400h160v-160H180v160Zm440 0h160v-160H620v160ZM180-180h160v-160H180v160Zm440 0h160v-160H620v160Z\"/>\n",
              "  </svg>\n",
              "    </button>\n",
              "\n",
              "  <style>\n",
              "    .colab-df-container {\n",
              "      display:flex;\n",
              "      gap: 12px;\n",
              "    }\n",
              "\n",
              "    .colab-df-convert {\n",
              "      background-color: #E8F0FE;\n",
              "      border: none;\n",
              "      border-radius: 50%;\n",
              "      cursor: pointer;\n",
              "      display: none;\n",
              "      fill: #1967D2;\n",
              "      height: 32px;\n",
              "      padding: 0 0 0 0;\n",
              "      width: 32px;\n",
              "    }\n",
              "\n",
              "    .colab-df-convert:hover {\n",
              "      background-color: #E2EBFA;\n",
              "      box-shadow: 0px 1px 2px rgba(60, 64, 67, 0.3), 0px 1px 3px 1px rgba(60, 64, 67, 0.15);\n",
              "      fill: #174EA6;\n",
              "    }\n",
              "\n",
              "    .colab-df-buttons div {\n",
              "      margin-bottom: 4px;\n",
              "    }\n",
              "\n",
              "    [theme=dark] .colab-df-convert {\n",
              "      background-color: #3B4455;\n",
              "      fill: #D2E3FC;\n",
              "    }\n",
              "\n",
              "    [theme=dark] .colab-df-convert:hover {\n",
              "      background-color: #434B5C;\n",
              "      box-shadow: 0px 1px 3px 1px rgba(0, 0, 0, 0.15);\n",
              "      filter: drop-shadow(0px 1px 2px rgba(0, 0, 0, 0.3));\n",
              "      fill: #FFFFFF;\n",
              "    }\n",
              "  </style>\n",
              "\n",
              "    <script>\n",
              "      const buttonEl =\n",
              "        document.querySelector('#df-15d214a7-26f0-4381-8a70-e1625b0af086 button.colab-df-convert');\n",
              "      buttonEl.style.display =\n",
              "        google.colab.kernel.accessAllowed ? 'block' : 'none';\n",
              "\n",
              "      async function convertToInteractive(key) {\n",
              "        const element = document.querySelector('#df-15d214a7-26f0-4381-8a70-e1625b0af086');\n",
              "        const dataTable =\n",
              "          await google.colab.kernel.invokeFunction('convertToInteractive',\n",
              "                                                    [key], {});\n",
              "        if (!dataTable) return;\n",
              "\n",
              "        const docLinkHtml = 'Like what you see? Visit the ' +\n",
              "          '<a target=\"_blank\" href=https://colab.research.google.com/notebooks/data_table.ipynb>data table notebook</a>'\n",
              "          + ' to learn more about interactive tables.';\n",
              "        element.innerHTML = '';\n",
              "        dataTable['output_type'] = 'display_data';\n",
              "        await google.colab.output.renderOutput(dataTable, element);\n",
              "        const docLink = document.createElement('div');\n",
              "        docLink.innerHTML = docLinkHtml;\n",
              "        element.appendChild(docLink);\n",
              "      }\n",
              "    </script>\n",
              "  </div>\n",
              "\n",
              "\n",
              "<div id=\"df-79dc6af6-f8db-4399-8574-c9e3628e2d1a\">\n",
              "  <button class=\"colab-df-quickchart\" onclick=\"quickchart('df-79dc6af6-f8db-4399-8574-c9e3628e2d1a')\"\n",
              "            title=\"Suggest charts\"\n",
              "            style=\"display:none;\">\n",
              "\n",
              "<svg xmlns=\"http://www.w3.org/2000/svg\" height=\"24px\"viewBox=\"0 0 24 24\"\n",
              "     width=\"24px\">\n",
              "    <g>\n",
              "        <path d=\"M19 3H5c-1.1 0-2 .9-2 2v14c0 1.1.9 2 2 2h14c1.1 0 2-.9 2-2V5c0-1.1-.9-2-2-2zM9 17H7v-7h2v7zm4 0h-2V7h2v10zm4 0h-2v-4h2v4z\"/>\n",
              "    </g>\n",
              "</svg>\n",
              "  </button>\n",
              "\n",
              "<style>\n",
              "  .colab-df-quickchart {\n",
              "      --bg-color: #E8F0FE;\n",
              "      --fill-color: #1967D2;\n",
              "      --hover-bg-color: #E2EBFA;\n",
              "      --hover-fill-color: #174EA6;\n",
              "      --disabled-fill-color: #AAA;\n",
              "      --disabled-bg-color: #DDD;\n",
              "  }\n",
              "\n",
              "  [theme=dark] .colab-df-quickchart {\n",
              "      --bg-color: #3B4455;\n",
              "      --fill-color: #D2E3FC;\n",
              "      --hover-bg-color: #434B5C;\n",
              "      --hover-fill-color: #FFFFFF;\n",
              "      --disabled-bg-color: #3B4455;\n",
              "      --disabled-fill-color: #666;\n",
              "  }\n",
              "\n",
              "  .colab-df-quickchart {\n",
              "    background-color: var(--bg-color);\n",
              "    border: none;\n",
              "    border-radius: 50%;\n",
              "    cursor: pointer;\n",
              "    display: none;\n",
              "    fill: var(--fill-color);\n",
              "    height: 32px;\n",
              "    padding: 0;\n",
              "    width: 32px;\n",
              "  }\n",
              "\n",
              "  .colab-df-quickchart:hover {\n",
              "    background-color: var(--hover-bg-color);\n",
              "    box-shadow: 0 1px 2px rgba(60, 64, 67, 0.3), 0 1px 3px 1px rgba(60, 64, 67, 0.15);\n",
              "    fill: var(--button-hover-fill-color);\n",
              "  }\n",
              "\n",
              "  .colab-df-quickchart-complete:disabled,\n",
              "  .colab-df-quickchart-complete:disabled:hover {\n",
              "    background-color: var(--disabled-bg-color);\n",
              "    fill: var(--disabled-fill-color);\n",
              "    box-shadow: none;\n",
              "  }\n",
              "\n",
              "  .colab-df-spinner {\n",
              "    border: 2px solid var(--fill-color);\n",
              "    border-color: transparent;\n",
              "    border-bottom-color: var(--fill-color);\n",
              "    animation:\n",
              "      spin 1s steps(1) infinite;\n",
              "  }\n",
              "\n",
              "  @keyframes spin {\n",
              "    0% {\n",
              "      border-color: transparent;\n",
              "      border-bottom-color: var(--fill-color);\n",
              "      border-left-color: var(--fill-color);\n",
              "    }\n",
              "    20% {\n",
              "      border-color: transparent;\n",
              "      border-left-color: var(--fill-color);\n",
              "      border-top-color: var(--fill-color);\n",
              "    }\n",
              "    30% {\n",
              "      border-color: transparent;\n",
              "      border-left-color: var(--fill-color);\n",
              "      border-top-color: var(--fill-color);\n",
              "      border-right-color: var(--fill-color);\n",
              "    }\n",
              "    40% {\n",
              "      border-color: transparent;\n",
              "      border-right-color: var(--fill-color);\n",
              "      border-top-color: var(--fill-color);\n",
              "    }\n",
              "    60% {\n",
              "      border-color: transparent;\n",
              "      border-right-color: var(--fill-color);\n",
              "    }\n",
              "    80% {\n",
              "      border-color: transparent;\n",
              "      border-right-color: var(--fill-color);\n",
              "      border-bottom-color: var(--fill-color);\n",
              "    }\n",
              "    90% {\n",
              "      border-color: transparent;\n",
              "      border-bottom-color: var(--fill-color);\n",
              "    }\n",
              "  }\n",
              "</style>\n",
              "\n",
              "  <script>\n",
              "    async function quickchart(key) {\n",
              "      const quickchartButtonEl =\n",
              "        document.querySelector('#' + key + ' button');\n",
              "      quickchartButtonEl.disabled = true;  // To prevent multiple clicks.\n",
              "      quickchartButtonEl.classList.add('colab-df-spinner');\n",
              "      try {\n",
              "        const charts = await google.colab.kernel.invokeFunction(\n",
              "            'suggestCharts', [key], {});\n",
              "      } catch (error) {\n",
              "        console.error('Error during call to suggestCharts:', error);\n",
              "      }\n",
              "      quickchartButtonEl.classList.remove('colab-df-spinner');\n",
              "      quickchartButtonEl.classList.add('colab-df-quickchart-complete');\n",
              "    }\n",
              "    (() => {\n",
              "      let quickchartButtonEl =\n",
              "        document.querySelector('#df-79dc6af6-f8db-4399-8574-c9e3628e2d1a button');\n",
              "      quickchartButtonEl.style.display =\n",
              "        google.colab.kernel.accessAllowed ? 'block' : 'none';\n",
              "    })();\n",
              "  </script>\n",
              "</div>\n",
              "\n",
              "    </div>\n",
              "  </div>\n"
            ],
            "application/vnd.google.colaboratory.intrinsic+json": {
              "type": "dataframe",
              "variable_name": "data",
              "summary": "{\n  \"name\": \"data\",\n  \"rows\": 8784,\n  \"fields\": [\n    {\n      \"column\": \"Date/Time\",\n      \"properties\": {\n        \"dtype\": \"object\",\n        \"num_unique_values\": 8784,\n        \"samples\": [\n          \"9/23/2012 1:00\",\n          \"3/3/2012 0:00\",\n          \"9/29/2012 11:00\"\n        ],\n        \"semantic_type\": \"\",\n        \"description\": \"\"\n      }\n    },\n    {\n      \"column\": \"Temp_C\",\n      \"properties\": {\n        \"dtype\": \"number\",\n        \"std\": 11.687882769691276,\n        \"min\": -23.3,\n        \"max\": 33.0,\n        \"num_unique_values\": 533,\n        \"samples\": [\n          -0.2,\n          30.1,\n          -11.2\n        ],\n        \"semantic_type\": \"\",\n        \"description\": \"\"\n      }\n    },\n    {\n      \"column\": \"Dew Point Temp_C\",\n      \"properties\": {\n        \"dtype\": \"number\",\n        \"std\": 10.883072319155794,\n        \"min\": -28.5,\n        \"max\": 24.4,\n        \"num_unique_values\": 489,\n        \"samples\": [\n          19.2,\n          -15.4,\n          17.1\n        ],\n        \"semantic_type\": \"\",\n        \"description\": \"\"\n      }\n    },\n    {\n      \"column\": \"Rel Hum_%\",\n      \"properties\": {\n        \"dtype\": \"number\",\n        \"std\": 16,\n        \"min\": 18,\n        \"max\": 100,\n        \"num_unique_values\": 83,\n        \"samples\": [\n          50,\n          86,\n          54\n        ],\n        \"semantic_type\": \"\",\n        \"description\": \"\"\n      }\n    },\n    {\n      \"column\": \"Wind Speed_km/h\",\n      \"properties\": {\n        \"dtype\": \"number\",\n        \"std\": 8,\n        \"min\": 0,\n        \"max\": 83,\n        \"num_unique_values\": 34,\n        \"samples\": [\n          26,\n          37,\n          46\n        ],\n        \"semantic_type\": \"\",\n        \"description\": \"\"\n      }\n    },\n    {\n      \"column\": \"Visibility_km\",\n      \"properties\": {\n        \"dtype\": \"number\",\n        \"std\": 12.622688245171492,\n        \"min\": 0.2,\n        \"max\": 48.3,\n        \"num_unique_values\": 24,\n        \"samples\": [\n          19.3,\n          2.0,\n          8.0\n        ],\n        \"semantic_type\": \"\",\n        \"description\": \"\"\n      }\n    },\n    {\n      \"column\": \"Press_kPa\",\n      \"properties\": {\n        \"dtype\": \"number\",\n        \"std\": 0.8440047459486483,\n        \"min\": 97.52,\n        \"max\": 103.65,\n        \"num_unique_values\": 518,\n        \"samples\": [\n          98.44,\n          101.05,\n          101.15\n        ],\n        \"semantic_type\": \"\",\n        \"description\": \"\"\n      }\n    },\n    {\n      \"column\": \"Weather\",\n      \"properties\": {\n        \"dtype\": \"category\",\n        \"num_unique_values\": 50,\n        \"samples\": [\n          \"Rain,Snow\",\n          \"Rain,Snow,Fog\",\n          \"Thunderstorms,Rain Showers\"\n        ],\n        \"semantic_type\": \"\",\n        \"description\": \"\"\n      }\n    }\n  ]\n}"
            }
          },
          "metadata": {},
          "execution_count": 22
        }
      ]
    },
    {
      "cell_type": "markdown",
      "source": [
        "create a data frame named weather_df\n",
        "\n",
        "---\n",
        "\n",
        "\n",
        "\n",
        "---\n",
        "\n"
      ],
      "metadata": {
        "id": "Qv0m0PRcZ98x"
      }
    },
    {
      "cell_type": "code",
      "source": [
        "file_path = \"1. Weather Data.csv\"\n",
        "weather_df = pd.read_csv( \"1. Weather Data.csv\" )"
      ],
      "metadata": {
        "id": "GzW2PVPaayli"
      },
      "execution_count": 11,
      "outputs": []
    },
    {
      "cell_type": "markdown",
      "source": [
        "records where the weather was exactly clear"
      ],
      "metadata": {
        "id": "LH8s1aO-bTb2"
      }
    },
    {
      "cell_type": "code",
      "source": [
        "clear_weather = weather_df[weather_df['Weather'] == 'Clear']\n",
        "print(clear_weather)"
      ],
      "metadata": {
        "colab": {
          "base_uri": "https://localhost:8080/"
        },
        "id": "c555sId4bXPP",
        "outputId": "9f417e12-5694-44fe-8105-6d7db31300f1"
      },
      "execution_count": 12,
      "outputs": [
        {
          "output_type": "stream",
          "name": "stdout",
          "text": [
            "             Date/Time  Temp_C  Dew Point Temp_C  Rel Hum_%  Wind Speed_km/h  \\\n",
            "67      1/3/2012 19:00   -16.9             -24.8         50               24   \n",
            "114     1/5/2012 18:00    -7.1             -14.4         56               11   \n",
            "115     1/5/2012 19:00    -9.2             -15.4         61                7   \n",
            "116     1/5/2012 20:00    -9.8             -15.7         62                9   \n",
            "117     1/5/2012 21:00    -9.0             -14.8         63               13   \n",
            "...                ...     ...               ...        ...              ...   \n",
            "8646   12/26/2012 6:00   -13.4             -14.8         89                4   \n",
            "8698  12/28/2012 10:00    -6.1              -8.6         82               19   \n",
            "8713   12/29/2012 1:00   -11.9             -13.6         87               11   \n",
            "8714   12/29/2012 2:00   -11.8             -13.1         90               13   \n",
            "8756  12/30/2012 20:00   -13.8             -16.5         80               24   \n",
            "\n",
            "      Visibility_km  Press_kPa Weather  \n",
            "67             25.0     101.74   Clear  \n",
            "114            25.0     100.71   Clear  \n",
            "115            25.0     100.80   Clear  \n",
            "116            25.0     100.83   Clear  \n",
            "117            25.0     100.83   Clear  \n",
            "...             ...        ...     ...  \n",
            "8646           25.0     102.47   Clear  \n",
            "8698           24.1     101.27   Clear  \n",
            "8713           25.0     101.31   Clear  \n",
            "8714           25.0     101.33   Clear  \n",
            "8756           25.0     101.52   Clear  \n",
            "\n",
            "[1326 rows x 8 columns]\n"
          ]
        }
      ]
    },
    {
      "cell_type": "markdown",
      "source": [
        "The number of times the wind speed was exactly 4 km/hr\n"
      ],
      "metadata": {
        "id": "tMjqpgsmcGza"
      }
    },
    {
      "cell_type": "code",
      "source": [
        "wind_speed_4 = weather_df[weather_df['Wind Speed_km/h'] == 4].shape[0]\n",
        "print(\"Number of times wind speed was exactly 4 km/hr:\", wind_speed_4)"
      ],
      "metadata": {
        "colab": {
          "base_uri": "https://localhost:8080/"
        },
        "id": "lOmcVlHfcJjv",
        "outputId": "cd8d7f40-4d8a-49b6-d922-6c8c94842ac1"
      },
      "execution_count": 13,
      "outputs": [
        {
          "output_type": "stream",
          "name": "stdout",
          "text": [
            "Number of times wind speed was exactly 4 km/hr: 474\n"
          ]
        }
      ]
    },
    {
      "cell_type": "markdown",
      "source": [
        "Check if there are any NULL values present in the dataset"
      ],
      "metadata": {
        "id": "TWSSV26Ece6L"
      }
    },
    {
      "cell_type": "code",
      "source": [
        "null_values = weather_df.isnull().sum().sum()\n",
        "print(\"Number of NULL values in the dataset:\", null_values)"
      ],
      "metadata": {
        "colab": {
          "base_uri": "https://localhost:8080/"
        },
        "id": "WgnT5r8Jckcs",
        "outputId": "ce69b81b-7d36-4cdd-8d46-f702af20c1bf"
      },
      "execution_count": 14,
      "outputs": [
        {
          "output_type": "stream",
          "name": "stdout",
          "text": [
            "Number of NULL values in the dataset: 0\n"
          ]
        }
      ]
    },
    {
      "cell_type": "markdown",
      "source": [
        "Rename the column \"Weather\" to \"Weather_Condition\""
      ],
      "metadata": {
        "id": "On5VctEmczQ7"
      }
    },
    {
      "cell_type": "code",
      "source": [
        "weather_df.rename(columns={'Weather': 'Weather_Condition'}, inplace=True)\n",
        "print(\"Columns after renaming:\", weather_df.columns)"
      ],
      "metadata": {
        "colab": {
          "base_uri": "https://localhost:8080/"
        },
        "id": "ne94AzfHc4qK",
        "outputId": "556765f6-e686-4f6f-d60b-f7b0f35ef8be"
      },
      "execution_count": 15,
      "outputs": [
        {
          "output_type": "stream",
          "name": "stdout",
          "text": [
            "Columns after renaming: Index(['Date/Time', 'Temp_C', 'Dew Point Temp_C', 'Rel Hum_%',\n",
            "       'Wind Speed_km/h', 'Visibility_km', 'Press_kPa', 'Weather_Condition'],\n",
            "      dtype='object')\n"
          ]
        }
      ]
    },
    {
      "cell_type": "markdown",
      "source": [
        "What is the mean visibility of the dataset?"
      ],
      "metadata": {
        "id": "jYavj9oxdJRw"
      }
    },
    {
      "cell_type": "code",
      "source": [
        "mean_visibility = weather_df['Visibility_km'].mean()\n",
        "print(\"Mean visibility:\", mean_visibility)"
      ],
      "metadata": {
        "colab": {
          "base_uri": "https://localhost:8080/"
        },
        "id": "eub76YBAdN-t",
        "outputId": "ad4ba651-e977-401d-e31f-371a9625a626"
      },
      "execution_count": 16,
      "outputs": [
        {
          "output_type": "stream",
          "name": "stdout",
          "text": [
            "Mean visibility: 27.664446721311478\n"
          ]
        }
      ]
    },
    {
      "cell_type": "markdown",
      "source": [
        "Find the number of records where the wind speed is greater than 24 km/hr and visibility is equal to 25 km"
      ],
      "metadata": {
        "id": "N3zh_0yUdUTi"
      }
    },
    {
      "cell_type": "code",
      "source": [
        "wind_greater_24_vis_25 = weather_df[(weather_df['Wind Speed_km/h'] > 24) & (weather_df['Visibility_km'] == 25)].shape[0]\n",
        "print(\"Number of records where wind speed > 24 km/hr and visibility = 25 km:\", wind_greater_24_vis_25)"
      ],
      "metadata": {
        "colab": {
          "base_uri": "https://localhost:8080/"
        },
        "id": "bTLYrWMwdb3n",
        "outputId": "d0b19490-8075-4cc5-a39d-4ca786c249f6"
      },
      "execution_count": 17,
      "outputs": [
        {
          "output_type": "stream",
          "name": "stdout",
          "text": [
            "Number of records where wind speed > 24 km/hr and visibility = 25 km: 308\n"
          ]
        }
      ]
    },
    {
      "cell_type": "markdown",
      "source": [
        " What is the mean value of each column for each weather condition?"
      ],
      "metadata": {
        "id": "y6pTd2kwdq_O"
      }
    },
    {
      "cell_type": "code",
      "source": [
        "numeric_columns = weather_df.select_dtypes(include='number')\n",
        "numeric_columns = pd.concat([weather_df['Weather_Condition'], numeric_columns], axis=1)\n",
        "mean_values_per_condition = numeric_columns.groupby('Weather_Condition').mean()\n",
        "print(\"Mean values per weather condition:\\n\")\n",
        "print(mean_values_per_condition)\n"
      ],
      "metadata": {
        "colab": {
          "base_uri": "https://localhost:8080/"
        },
        "id": "MlTHv0BXu_m0",
        "outputId": "28af9f3e-9aa9-46ec-f1f3-b2fd0b8f9e5d"
      },
      "execution_count": 23,
      "outputs": [
        {
          "output_type": "stream",
          "name": "stdout",
          "text": [
            "Mean values per weather condition:\n",
            "\n",
            "                                            Temp_C  Dew Point Temp_C  \\\n",
            "Weather_Condition                                                      \n",
            "Clear                                     6.825716          0.089367   \n",
            "Cloudy                                    7.970544          2.375810   \n",
            "Drizzle                                   7.353659          5.504878   \n",
            "Drizzle,Fog                               8.067500          7.033750   \n",
            "Drizzle,Ice Pellets,Fog                   0.400000         -0.700000   \n",
            "Drizzle,Snow                              1.050000          0.150000   \n",
            "Drizzle,Snow,Fog                          0.693333          0.120000   \n",
            "Fog                                       4.303333          3.159333   \n",
            "Freezing Drizzle                         -5.657143         -8.000000   \n",
            "Freezing Drizzle,Fog                     -2.533333         -4.183333   \n",
            "Freezing Drizzle,Haze                    -5.433333         -8.000000   \n",
            "Freezing Drizzle,Snow                    -5.109091         -7.072727   \n",
            "Freezing Fog                             -7.575000         -9.250000   \n",
            "Freezing Rain                            -3.885714         -6.078571   \n",
            "Freezing Rain,Fog                        -2.225000         -3.750000   \n",
            "Freezing Rain,Haze                       -4.900000         -7.450000   \n",
            "Freezing Rain,Ice Pellets,Fog            -2.600000         -3.700000   \n",
            "Freezing Rain,Snow Grains                -5.000000         -7.300000   \n",
            "Haze                                     -0.200000         -2.975000   \n",
            "Mainly Clear                             12.558927          4.581671   \n",
            "Moderate Rain,Fog                         1.700000          0.800000   \n",
            "Moderate Snow                            -5.525000         -7.250000   \n",
            "Moderate Snow,Blowing Snow               -5.450000         -6.500000   \n",
            "Mostly Cloudy                            10.574287          3.131174   \n",
            "Rain                                      9.786275          7.042810   \n",
            "Rain Showers                             13.722340          9.187766   \n",
            "Rain Showers,Fog                         12.800000         12.100000   \n",
            "Rain Showers,Snow Showers                 2.150000         -1.500000   \n",
            "Rain,Fog                                  8.273276          7.219828   \n",
            "Rain,Haze                                 4.633333          2.066667   \n",
            "Rain,Ice Pellets                          0.600000         -0.600000   \n",
            "Rain,Snow                                 1.055556         -0.566667   \n",
            "Rain,Snow Grains                          1.900000         -2.100000   \n",
            "Rain,Snow,Fog                             0.800000          0.300000   \n",
            "Rain,Snow,Ice Pellets                     1.100000         -0.175000   \n",
            "Snow                                     -4.524103         -7.623333   \n",
            "Snow Pellets                              0.700000         -6.400000   \n",
            "Snow Showers                             -3.506667         -7.866667   \n",
            "Snow Showers,Fog                        -10.675000        -11.900000   \n",
            "Snow,Blowing Snow                        -5.410526         -7.621053   \n",
            "Snow,Fog                                 -5.075676         -6.364865   \n",
            "Snow,Haze                                -4.020000         -6.860000   \n",
            "Snow,Ice Pellets                         -1.883333         -3.666667   \n",
            "Thunderstorms                            24.150000         19.750000   \n",
            "Thunderstorms,Heavy Rain Showers         10.900000          9.000000   \n",
            "Thunderstorms,Moderate Rain Showers,Fog  19.600000         18.500000   \n",
            "Thunderstorms,Rain                       20.433333         18.533333   \n",
            "Thunderstorms,Rain Showers               20.037500         17.618750   \n",
            "Thunderstorms,Rain Showers,Fog           21.600000         18.700000   \n",
            "Thunderstorms,Rain,Fog                   20.600000         18.600000   \n",
            "\n",
            "                                         Rel Hum_%  Wind Speed_km/h  \\\n",
            "Weather_Condition                                                     \n",
            "Clear                                    64.497738        10.557315   \n",
            "Cloudy                                   69.592593        16.127315   \n",
            "Drizzle                                  88.243902        16.097561   \n",
            "Drizzle,Fog                              93.275000        11.862500   \n",
            "Drizzle,Ice Pellets,Fog                  92.000000        20.000000   \n",
            "Drizzle,Snow                             93.500000        14.000000   \n",
            "Drizzle,Snow,Fog                         95.866667        15.533333   \n",
            "Fog                                      92.286667         7.946667   \n",
            "Freezing Drizzle                         83.571429        16.571429   \n",
            "Freezing Drizzle,Fog                     88.500000        17.000000   \n",
            "Freezing Drizzle,Haze                    82.000000        10.333333   \n",
            "Freezing Drizzle,Snow                    86.090909        16.272727   \n",
            "Freezing Fog                             87.750000         4.750000   \n",
            "Freezing Rain                            84.642857        19.214286   \n",
            "Freezing Rain,Fog                        89.500000        15.500000   \n",
            "Freezing Rain,Haze                       82.500000         7.500000   \n",
            "Freezing Rain,Ice Pellets,Fog            92.000000        28.000000   \n",
            "Freezing Rain,Snow Grains                84.000000        32.000000   \n",
            "Haze                                     81.625000        10.437500   \n",
            "Mainly Clear                             60.667142        14.144824   \n",
            "Moderate Rain,Fog                        94.000000        17.000000   \n",
            "Moderate Snow                            87.750000        33.750000   \n",
            "Moderate Snow,Blowing Snow               92.500000        40.000000   \n",
            "Mostly Cloudy                            62.102465        15.813920   \n",
            "Rain                                     83.624183        19.254902   \n",
            "Rain Showers                             75.159574        17.132979   \n",
            "Rain Showers,Fog                         96.000000        13.000000   \n",
            "Rain Showers,Snow Showers                76.500000        22.500000   \n",
            "Rain,Fog                                 93.189655        14.793103   \n",
            "Rain,Haze                                83.333333        11.666667   \n",
            "Rain,Ice Pellets                         92.000000        24.000000   \n",
            "Rain,Snow                                89.000000        28.388889   \n",
            "Rain,Snow Grains                         75.000000        26.000000   \n",
            "Rain,Snow,Fog                            96.000000         9.000000   \n",
            "Rain,Snow,Ice Pellets                    91.500000        23.250000   \n",
            "Snow                                     79.307692        20.038462   \n",
            "Snow Pellets                             59.000000        35.000000   \n",
            "Snow Showers                             72.350000        19.233333   \n",
            "Snow Showers,Fog                         90.750000        13.750000   \n",
            "Snow,Blowing Snow                        84.473684        34.842105   \n",
            "Snow,Fog                                 90.675676        17.324324   \n",
            "Snow,Haze                                80.600000         5.000000   \n",
            "Snow,Ice Pellets                         87.666667        23.833333   \n",
            "Thunderstorms                            77.000000         7.500000   \n",
            "Thunderstorms,Heavy Rain Showers         88.000000         9.000000   \n",
            "Thunderstorms,Moderate Rain Showers,Fog  93.000000        15.000000   \n",
            "Thunderstorms,Rain                       89.000000        15.666667   \n",
            "Thunderstorms,Rain Showers               86.375000        18.312500   \n",
            "Thunderstorms,Rain Showers,Fog           84.000000        19.666667   \n",
            "Thunderstorms,Rain,Fog                   88.000000        19.000000   \n",
            "\n",
            "                                         Visibility_km   Press_kPa  \n",
            "Weather_Condition                                                   \n",
            "Clear                                        30.153243  101.587443  \n",
            "Cloudy                                       26.625752  100.911441  \n",
            "Drizzle                                      17.931707  100.435366  \n",
            "Drizzle,Fog                                   5.257500  100.786625  \n",
            "Drizzle,Ice Pellets,Fog                       4.000000  100.790000  \n",
            "Drizzle,Snow                                 10.500000  100.890000  \n",
            "Drizzle,Snow,Fog                              5.513333   99.281333  \n",
            "Fog                                           6.248000  101.184067  \n",
            "Freezing Drizzle                              9.200000  100.202857  \n",
            "Freezing Drizzle,Fog                          5.266667  100.441667  \n",
            "Freezing Drizzle,Haze                         2.666667  100.316667  \n",
            "Freezing Drizzle,Snow                         5.872727  100.520909  \n",
            "Freezing Fog                                  0.650000  102.320000  \n",
            "Freezing Rain                                 8.242857   99.647143  \n",
            "Freezing Rain,Fog                             7.550000   99.945000  \n",
            "Freezing Rain,Haze                            2.400000  100.375000  \n",
            "Freezing Rain,Ice Pellets,Fog                 8.000000  100.950000  \n",
            "Freezing Rain,Snow Grains                     4.800000   98.560000  \n",
            "Haze                                          7.831250  101.482500  \n",
            "Mainly Clear                                 34.264862  101.248832  \n",
            "Moderate Rain,Fog                             6.400000   99.980000  \n",
            "Moderate Snow                                 0.750000  100.275000  \n",
            "Moderate Snow,Blowing Snow                    0.600000  100.570000  \n",
            "Mostly Cloudy                                31.253842  101.025288  \n",
            "Rain                                         18.856536  100.233333  \n",
            "Rain Showers                                 22.816489  100.404043  \n",
            "Rain Showers,Fog                              6.400000   99.830000  \n",
            "Rain Showers,Snow Showers                    21.700000  101.100000  \n",
            "Rain,Fog                                      6.873276  100.500862  \n",
            "Rain,Haze                                     6.700000  100.540000  \n",
            "Rain,Ice Pellets                              9.700000  100.120000  \n",
            "Rain,Snow                                    11.672222   99.951111  \n",
            "Rain,Snow Grains                             25.000000  100.600000  \n",
            "Rain,Snow,Fog                                 6.400000  100.730000  \n",
            "Rain,Snow,Ice Pellets                         6.000000  100.105000  \n",
            "Snow                                         11.171795  100.536103  \n",
            "Snow Pellets                                  2.400000   99.700000  \n",
            "Snow Showers                                 20.158333  100.963500  \n",
            "Snow Showers,Fog                              7.025000  101.292500  \n",
            "Snow,Blowing Snow                             4.105263   99.704737  \n",
            "Snow,Fog                                      4.537838  100.688649  \n",
            "Snow,Haze                                     4.640000  100.782000  \n",
            "Snow,Ice Pellets                              7.416667  100.548333  \n",
            "Thunderstorms                                24.550000  100.230000  \n",
            "Thunderstorms,Heavy Rain Showers              2.400000  100.260000  \n",
            "Thunderstorms,Moderate Rain Showers,Fog       3.200000  100.010000  \n",
            "Thunderstorms,Rain                           19.833333  100.420000  \n",
            "Thunderstorms,Rain Showers                   15.893750  100.233750  \n",
            "Thunderstorms,Rain Showers,Fog                9.700000  100.063333  \n",
            "Thunderstorms,Rain,Fog                        4.800000  100.080000  \n"
          ]
        }
      ]
    },
    {
      "cell_type": "markdown",
      "source": [
        "Find all instances where the weather is clear and the relative humidity is greater than 50, or visibility is above 40"
      ],
      "metadata": {
        "id": "gjf3Ow6IeD05"
      }
    },
    {
      "cell_type": "code",
      "source": [
        "clear_and_humid_or_high_visibility = weather_df[(weather_df['Weather_Condition'] == 'Clear') &\n",
        "                                               (weather_df['Rel Hum_%'] > 50) |\n",
        "                                               (weather_df['Visibility_km'] > 40)]\n",
        "print(\"Instances with clear weather and relative humidity > 50 or visibility > 40:\\n\", clear_and_humid_or_high_visibility)"
      ],
      "metadata": {
        "colab": {
          "base_uri": "https://localhost:8080/"
        },
        "id": "kVeH1JaveOzL",
        "outputId": "9f68a3e2-12f4-44b4-8b90-a7ef2725c0cf"
      },
      "execution_count": 19,
      "outputs": [
        {
          "output_type": "stream",
          "name": "stdout",
          "text": [
            "Instances with clear weather and relative humidity > 50 or visibility > 40:\n",
            "              Date/Time  Temp_C  Dew Point Temp_C  Rel Hum_%  Wind Speed_km/h  \\\n",
            "106     1/5/2012 10:00    -6.0             -10.0         73               17   \n",
            "107     1/5/2012 11:00    -5.6             -10.2         70               22   \n",
            "108     1/5/2012 12:00    -4.7              -9.6         69               20   \n",
            "109     1/5/2012 13:00    -4.4              -9.7         66               26   \n",
            "110     1/5/2012 14:00    -5.1             -10.7         65               22   \n",
            "...                ...     ...               ...        ...              ...   \n",
            "8749  12/30/2012 13:00   -12.4             -16.2         73               37   \n",
            "8750  12/30/2012 14:00   -11.8             -16.1         70               37   \n",
            "8751  12/30/2012 15:00   -11.3             -15.6         70               32   \n",
            "8752  12/30/2012 16:00   -11.4             -15.5         72               26   \n",
            "8756  12/30/2012 20:00   -13.8             -16.5         80               24   \n",
            "\n",
            "      Visibility_km  Press_kPa Weather_Condition  \n",
            "106            48.3     100.45      Mainly Clear  \n",
            "107            48.3     100.41      Mainly Clear  \n",
            "108            48.3     100.38      Mainly Clear  \n",
            "109            48.3     100.40      Mainly Clear  \n",
            "110            48.3     100.46      Mainly Clear  \n",
            "...             ...        ...               ...  \n",
            "8749           48.3     100.92     Mostly Cloudy  \n",
            "8750           48.3     100.96      Mainly Clear  \n",
            "8751           48.3     101.05      Mainly Clear  \n",
            "8752           48.3     101.15      Mainly Clear  \n",
            "8756           25.0     101.52             Clear  \n",
            "\n",
            "[2921 rows x 8 columns]\n"
          ]
        }
      ]
    },
    {
      "cell_type": "markdown",
      "source": [
        " Find the number of weather conditions that include snow"
      ],
      "metadata": {
        "id": "kr2u36V3ecUG"
      }
    },
    {
      "cell_type": "code",
      "source": [
        "snow_conditions = weather_df[weather_df['Weather_Condition'].str.contains('Snow', case=False, na=False)]\n",
        "num_snow_conditions = snow_conditions['Weather_Condition'].nunique()\n",
        "print(\"Number of unique weather conditions including snow:\", num_snow_conditions)"
      ],
      "metadata": {
        "colab": {
          "base_uri": "https://localhost:8080/"
        },
        "id": "sDTfqbJ4ehdw",
        "outputId": "88ab16c7-9663-4233-837d-46f6639b144c"
      },
      "execution_count": 20,
      "outputs": [
        {
          "output_type": "stream",
          "name": "stdout",
          "text": [
            "Number of unique weather conditions including snow: 19\n"
          ]
        }
      ]
    }
  ]
}